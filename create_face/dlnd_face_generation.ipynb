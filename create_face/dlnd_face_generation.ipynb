{
 "cells": [
  {
   "cell_type": "markdown",
   "metadata": {},
   "source": [
    "# Face Generation\n",
    "\n",
    "In this project, you'll define and train a DCGAN on a dataset of faces. Your goal is to get a generator network to generate *new* images of faces that look as realistic as possible!\n",
    "\n",
    "The project will be broken down into a series of tasks from **loading in data to defining and training adversarial networks**. At the end of the notebook, you'll be able to visualize the results of your trained Generator to see how it performs; your generated samples should look like fairly realistic faces with small amounts of noise.\n",
    "\n",
    "### Get the Data\n",
    "\n",
    "You'll be using the [CelebFaces Attributes Dataset (CelebA)](http://mmlab.ie.cuhk.edu.hk/projects/CelebA.html) to train your adversarial networks.\n",
    "\n",
    "This dataset is more complex than the number datasets (like MNIST or SVHN) you've been working with, and so, you should prepare to define deeper networks and train them for a longer time to get good results. It is suggested that you utilize a GPU for training.\n",
    "\n",
    "### Pre-processed Data\n",
    "\n",
    "Since the project's main focus is on building the GANs, we've done *some* of the pre-processing for you. Each of the CelebA images has been cropped to remove parts of the image that don't include a face, then resized down to 64x64x3 NumPy images. Some sample data is show below.\n",
    "\n",
    "<img src='assets/processed_face_data.png' width=60% />\n",
    "\n",
    "> If you are working locally, you can download this data [by clicking here](https://s3.amazonaws.com/video.udacity-data.com/topher/2018/November/5be7eb6f_processed-celeba-small/processed-celeba-small.zip)\n",
    "\n",
    "This is a zip file that you'll need to extract in the home directory of this notebook for further loading and processing. After extracting the data, you should be left with a directory of data `processed_celeba_small/`"
   ]
  },
  {
   "cell_type": "code",
   "execution_count": 1,
   "metadata": {},
   "outputs": [
    {
     "name": "stdout",
     "output_type": "stream",
     "text": [
      "Archive:  processed_celeba_small.zip\n",
      "replace processed_celeba_small/.DS_Store? [y]es, [n]o, [A]ll, [N]one, [r]ename: ^C\n"
     ]
    }
   ],
   "source": [
    "# can comment out after executing\n",
    "!unzip processed_celeba_small.zip"
   ]
  },
  {
   "cell_type": "code",
   "execution_count": 26,
   "metadata": {},
   "outputs": [],
   "source": [
    "data_dir = 'processed_celeba_small/'\n",
    "\n",
    "\"\"\"\n",
    "DON'T MODIFY ANYTHING IN THIS CELL\n",
    "\"\"\"\n",
    "import pickle as pkl\n",
    "import matplotlib.pyplot as plt\n",
    "import numpy as np\n",
    "import problem_unittests as tests\n",
    "#import helper\n",
    "\n",
    "%matplotlib inline"
   ]
  },
  {
   "cell_type": "markdown",
   "metadata": {},
   "source": [
    "## Visualize the CelebA Data\n",
    "\n",
    "The [CelebA](http://mmlab.ie.cuhk.edu.hk/projects/CelebA.html) dataset contains over 200,000 celebrity images with annotations. Since you're going to be generating faces, you won't need the annotations, you'll only need the images. Note that these are color images with [3 color channels (RGB)](https://en.wikipedia.org/wiki/Channel_(digital_image)#RGB_Images) each.\n",
    "\n",
    "### Pre-process and Load the Data\n",
    "\n",
    "Since the project's main focus is on building the GANs, we've done *some* of the pre-processing for you. Each of the CelebA images has been cropped to remove parts of the image that don't include a face, then resized down to 64x64x3 NumPy images. This *pre-processed* dataset is a smaller subset of the very large CelebA data.\n",
    "\n",
    "> There are a few other steps that you'll need to **transform** this data and create a **DataLoader**.\n",
    "\n",
    "#### Exercise: Complete the following `get_dataloader` function, such that it satisfies these requirements:\n",
    "\n",
    "* Your images should be square, Tensor images of size `image_size x image_size` in the x and y dimension.\n",
    "* Your function should return a DataLoader that shuffles and batches these Tensor images.\n",
    "\n",
    "#### ImageFolder\n",
    "\n",
    "To create a dataset given a directory of images, it's recommended that you use PyTorch's [ImageFolder](https://pytorch.org/docs/stable/torchvision/datasets.html#imagefolder) wrapper, with a root directory `processed_celeba_small/` and data transformation passed in."
   ]
  },
  {
   "cell_type": "code",
   "execution_count": 27,
   "metadata": {},
   "outputs": [],
   "source": [
    "# necessary imports\n",
    "import torch\n",
    "from torchvision import datasets\n",
    "from torchvision import transforms"
   ]
  },
  {
   "cell_type": "code",
   "execution_count": 28,
   "metadata": {},
   "outputs": [],
   "source": [
    "def get_dataloader(batch_size, image_size, data_dir='processed_celeba_small/'):\n",
    "    \"\"\"\n",
    "    Batch the neural network data using DataLoader\n",
    "    :param batch_size: The size of each batch; the number of images in a batch\n",
    "    :param img_size: The square size of the image data (x, y)\n",
    "    :param data_dir: Directory where image data is located\n",
    "    :return: DataLoader with batched data\n",
    "    \"\"\"\n",
    "    \n",
    "    # TODO: Implement function and return a dataloader\n",
    "    transform = transforms.Compose([\n",
    "                    transforms.Resize(image_size),\n",
    "                    transforms.ToTensor()\n",
    "                ])\n",
    "    dataset = datasets.ImageFolder(data_dir, \n",
    "                                      transform = transform)\n",
    "    \n",
    "    data_loader = torch.utils.data.DataLoader(dataset = dataset,\n",
    "                                               batch_size = batch_size,\n",
    "                                               shuffle = True)\n",
    "    \n",
    "    return data_loader\n"
   ]
  },
  {
   "cell_type": "markdown",
   "metadata": {},
   "source": [
    "## Create a DataLoader\n",
    "\n",
    "#### Exercise: Create a DataLoader `celeba_train_loader` with appropriate hyperparameters.\n",
    "\n",
    "Call the above function and create a dataloader to view images. \n",
    "* You can decide on any reasonable `batch_size` parameter\n",
    "* Your `image_size` **must be** `32`. Resizing the data to a smaller size will make for faster training, while still creating convincing images of faces!"
   ]
  },
  {
   "cell_type": "code",
   "execution_count": 29,
   "metadata": {},
   "outputs": [],
   "source": [
    "# Define function hyperparameters\n",
    "batch_size = 128\n",
    "img_size = 32\n",
    "\n",
    "\n",
    "\"\"\"\n",
    "DON'T MODIFY ANYTHING IN THIS CELL THAT IS BELOW THIS LINE\n",
    "\"\"\"\n",
    "# Call your function and get a dataloader\n",
    "celeba_train_loader = get_dataloader(batch_size, img_size)\n"
   ]
  },
  {
   "cell_type": "markdown",
   "metadata": {},
   "source": [
    "Next, you can view some images! You should seen square images of somewhat-centered faces.\n",
    "\n",
    "Note: You'll need to convert the Tensor images into a NumPy type and transpose the dimensions to correctly display an image, suggested `imshow` code is below, but it may not be perfect."
   ]
  },
  {
   "cell_type": "code",
   "execution_count": 6,
   "metadata": {},
   "outputs": [
    {
     "data": {
      "image/png": "[encoded data removed]",
      "text/plain": [
       "<matplotlib.figure.Figure at 0x7fa3857c3e48>"
      ]
     },
     "metadata": {},
     "output_type": "display_data"
    }
   ],
   "source": [
    "# helper display function\n",
    "def imshow(img):\n",
    "    npimg = img.numpy()\n",
    "    plt.imshow(np.transpose(npimg, (1, 2, 0)))\n",
    "\n",
    "\"\"\"\n",
    "DON'T MODIFY ANYTHING IN THIS CELL THAT IS BELOW THIS LINE\n",
    "\"\"\"\n",
    "# obtain one batch of training images\n",
    "dataiter = iter(celeba_train_loader)\n",
    "images, _ = dataiter.next() # _ for no labels\n",
    "\n",
    "# plot the images in the batch, along with the corresponding labels\n",
    "fig = plt.figure(figsize=(20, 4))\n",
    "plot_size=20\n",
    "for idx in np.arange(plot_size):\n",
    "    ax = fig.add_subplot(2, plot_size/2, idx+1, xticks=[], yticks=[])\n",
    "    imshow(images[idx])"
   ]
  },
  {
   "cell_type": "markdown",
   "metadata": {},
   "source": [
    "#### Exercise: Pre-process your image data and scale it to a pixel range of -1 to 1\n",
    "\n",
    "You need to do a bit of pre-processing; you know that the output of a `tanh` activated generator will contain pixel values in a range from -1 to 1, and so, we need to rescale our training images to a range of -1 to 1. (Right now, they are in a range from 0-1.)"
   ]
  },
  {
   "cell_type": "code",
   "execution_count": 7,
   "metadata": {},
   "outputs": [],
   "source": [
    "# TODO: Complete the scale function\n",
    "def scale(x, feature_range=(-1, 1)):\n",
    "    ''' Scale takes in an image x and returns that image, scaled\n",
    "       with a feature_range of pixel values from -1 to 1. \n",
    "       This function assumes that the input x is already scaled from 0-1.'''\n",
    "    # assume x is scaled to (0, 1)\n",
    "    # scale to feature_range and return scaled x\n",
    "    min, max = feature_range\n",
    "    x = x * (max - min) + min\n",
    "    return x"
   ]
  },
  {
   "cell_type": "code",
   "execution_count": 8,
   "metadata": {},
   "outputs": [
    {
     "name": "stdout",
     "output_type": "stream",
     "text": [
      "Min:  tensor(-0.9059)\n",
      "Max:  tensor(0.5216)\n"
     ]
    }
   ],
   "source": [
    "\"\"\"\n",
    "DON'T MODIFY ANYTHING IN THIS CELL THAT IS BELOW THIS LINE\n",
    "\"\"\"\n",
    "# check scaled range\n",
    "# should be close to -1 to 1\n",
    "img = images[0]\n",
    "scaled_img = scale(img)\n",
    "\n",
    "print('Min: ', scaled_img.min())\n",
    "print('Max: ', scaled_img.max())"
   ]
  },
  {
   "cell_type": "code",
   "execution_count": null,
   "metadata": {},
   "outputs": [],
   "source": [
    "\n"
   ]
  },
  {
   "cell_type": "markdown",
   "metadata": {},
   "source": [
    "---\n",
    "# Define the Model\n",
    "\n",
    "A GAN is comprised of two adversarial networks, a discriminator and a generator.\n",
    "\n",
    "## Discriminator\n",
    "\n",
    "Your first task will be to define the discriminator. This is a convolutional classifier like you've built before, only without any maxpooling layers. To deal with this complex data, it's suggested you use a deep network with **normalization**. You are also allowed to create any helper functions that may be useful.\n",
    "\n",
    "#### Exercise: Complete the Discriminator class\n",
    "* The inputs to the discriminator are 32x32x3 tensor images\n",
    "* The output should be a single value that will indicate whether a given image is real or fake\n"
   ]
  },
  {
   "cell_type": "code",
   "execution_count": 9,
   "metadata": {},
   "outputs": [],
   "source": [
    "import torch.nn as nn\n",
    "import torch.nn.functional as F"
   ]
  },
  {
   "cell_type": "code",
   "execution_count": 10,
   "metadata": {},
   "outputs": [],
   "source": [
    "# helper conv function\n",
    "def conv(in_channels, out_channels, kernel_size, stride=2, padding=1, batch_norm=True):\n",
    "    \"\"\"Creates a convolutional layer, with optional batch normalization.\n",
    "    \"\"\"\n",
    "    layers = []\n",
    "    conv_layer = nn.Conv2d(in_channels, out_channels, \n",
    "                           kernel_size, stride, padding, bias=False)\n",
    "    \n",
    "    # append conv layer\n",
    "    layers.append(conv_layer)\n",
    "\n",
    "    if batch_norm:\n",
    "        # append batchnorm layer\n",
    "        layers.append(nn.BatchNorm2d(out_channels))\n",
    "     \n",
    "    # using Sequential container\n",
    "    return nn.Sequential(*layers)"
   ]
  },
  {
   "cell_type": "code",
   "execution_count": 11,
   "metadata": {},
   "outputs": [
    {
     "name": "stdout",
     "output_type": "stream",
     "text": [
      "Tests Passed\n"
     ]
    }
   ],
   "source": [
    "class Discriminator(nn.Module):\n",
    "\n",
    "    def __init__(self, conv_dim):\n",
    "        \"\"\"\n",
    "        Initialize the Discriminator Module\n",
    "        :param conv_dim: The depth of the first convolutional layer\n",
    "        \"\"\"\n",
    "        super(Discriminator, self).__init__()\n",
    "\n",
    "        # complete init function\n",
    "        self.conv_dim = conv_dim\n",
    "        # [input] 32x32 \n",
    "        self.conv1 = conv(3, conv_dim, 4, batch_norm=False) # first layer, no batch_norm\n",
    "        # 16x16\n",
    "        self.conv2 = conv(conv_dim, conv_dim*2, 4)\n",
    "        # 8x8 \n",
    "        self.conv3 = conv(conv_dim*2, conv_dim*4, 4)\n",
    "        # 4x4 [out]\n",
    "        # final, fully-connected layer\n",
    "        self.fc = nn.Linear(conv_dim*4*4*4, 1)\n",
    "        \n",
    "    def forward(self, x):\n",
    "        \"\"\"\n",
    "        Forward propagation of the neural network\n",
    "        :param x: The input to the neural network     \n",
    "        :return: Discriminator logits; the output of the neural network\n",
    "        \"\"\"\n",
    "        # define feedforward behavior\n",
    "        output = F.leaky_relu(self.conv1(x), 0.18)\n",
    "        output = F.leaky_relu(self.conv2(output), 0.06)\n",
    "        output = F.leaky_relu(self.conv3(output), 0.18)\n",
    "        \n",
    "        # flatten\n",
    "        output = output.view(-1, self.conv_dim*4*4*4)\n",
    "        \n",
    "        # final output layer\n",
    "        output = self.fc(output)        \n",
    "        return output\n",
    "\n",
    "\n",
    "\"\"\"\n",
    "DON'T MODIFY ANYTHING IN THIS CELL THAT IS BELOW THIS LINE\n",
    "\"\"\"\n",
    "tests.test_discriminator(Discriminator)"
   ]
  },
  {
   "cell_type": "markdown",
   "metadata": {},
   "source": [
    "## Generator\n",
    "\n",
    "The generator should upsample an input and generate a *new* image of the same size as our training data `32x32x3`. This should be mostly transpose convolutional layers with normalization applied to the outputs.\n",
    "\n",
    "#### Exercise: Complete the Generator class\n",
    "* The inputs to the generator are vectors of some length `z_size`\n",
    "* The output should be a image of shape `32x32x3`"
   ]
  },
  {
   "cell_type": "code",
   "execution_count": 12,
   "metadata": {},
   "outputs": [],
   "source": [
    "# helper deconv function\n",
    "def deconv(in_channels, out_channels, kernel_size, stride=2, padding=1, batch_norm=True):\n",
    "    \"\"\"Creates a transposed-convolutional layer, with optional batch normalization.\n",
    "    \"\"\"\n",
    "    # create a sequence of transpose + optional batch norm layers\n",
    "    layers = []\n",
    "    transpose_conv_layer = nn.ConvTranspose2d(in_channels, out_channels, \n",
    "                                              kernel_size, stride, padding, bias=False)\n",
    "    # append transpose convolutional layer\n",
    "    layers.append(transpose_conv_layer)\n",
    "    \n",
    "    if batch_norm:\n",
    "        # append batchnorm layer\n",
    "        layers.append(nn.BatchNorm2d(out_channels))\n",
    "        \n",
    "    return nn.Sequential(*layers)"
   ]
  },
  {
   "cell_type": "code",
   "execution_count": 13,
   "metadata": {},
   "outputs": [
    {
     "name": "stdout",
     "output_type": "stream",
     "text": [
      "Tests Passed\n"
     ]
    }
   ],
   "source": [
    "class Generator(nn.Module):\n",
    "    \n",
    "    def __init__(self, z_size, conv_dim):\n",
    "        \"\"\"\n",
    "        Initialize the Generator Module\n",
    "        :param z_size: The length of the input latent vector, z\n",
    "        :param conv_dim: The depth of the inputs to the *last* transpose convolutional layer\n",
    "        \"\"\"\n",
    "        super(Generator, self).__init__()\n",
    "\n",
    "        # complete init function\n",
    "        self.conv_dim = conv_dim\n",
    "        \n",
    "        # first, fully-connected layer\n",
    "        self.fc = nn.Linear(z_size, conv_dim*4*4*4)\n",
    "\n",
    "        # transpose conv layers\n",
    "        self.t_conv1 = deconv(conv_dim*4, conv_dim*2, 4)\n",
    "        self.t_conv2 = deconv(conv_dim*2, conv_dim, 4)\n",
    "        self.t_conv3 = deconv(conv_dim, 3, 4, batch_norm=False)\n",
    "\n",
    "    def forward(self, x):\n",
    "        \"\"\"\n",
    "        Forward propagation of the neural network\n",
    "        :param x: The input to the neural network     \n",
    "        :return: A 32x32x3 Tensor image as output\n",
    "        \"\"\"\n",
    "        # define feedforward behavior\n",
    "        # fully-connected + reshape \n",
    "        output = self.fc(x)\n",
    "        output = output.view(-1, self.conv_dim*4, 4, 4) # (batch_size, depth, 4, 4)\n",
    "        \n",
    "        # hidden transpose conv layers + relu\n",
    "        output = F.relu(self.t_conv1(output))\n",
    "        output = F.relu(self.t_conv2(output))\n",
    "        \n",
    "        # last layer + tanh activation\n",
    "        output = self.t_conv3(output)\n",
    "        output = F.tanh(output)\n",
    "        \n",
    "        return output\n",
    "\n",
    "\"\"\"\n",
    "DON'T MODIFY ANYTHING IN THIS CELL THAT IS BELOW THIS LINE\n",
    "\"\"\"\n",
    "tests.test_generator(Generator)"
   ]
  },
  {
   "cell_type": "markdown",
   "metadata": {},
   "source": [
    "## Initialize the weights of your networks\n",
    "\n",
    "To help your models converge, you should initialize the weights of the convolutional and linear layers in your model. From reading the [original DCGAN paper](https://arxiv.org/pdf/1511.06434.pdf), they say:\n",
    "> All weights were initialized from a zero-centered Normal distribution with standard deviation 0.02.\n",
    "\n",
    "So, your next task will be to define a weight initialization function that does just this!\n",
    "\n",
    "You can refer back to the lesson on weight initialization or even consult existing model code, such as that from [the `networks.py` file in CycleGAN Github repository](https://github.com/junyanz/pytorch-CycleGAN-and-pix2pix/blob/master/models/networks.py) to help you complete this function.\n",
    "\n",
    "#### Exercise: Complete the weight initialization function\n",
    "\n",
    "* This should initialize only **convolutional** and **linear** layers\n",
    "* Initialize the weights to a normal distribution, centered around 0, with a standard deviation of 0.02.\n",
    "* The bias terms, if they exist, may be left alone or set to 0."
   ]
  },
  {
   "cell_type": "code",
   "execution_count": 14,
   "metadata": {},
   "outputs": [],
   "source": [
    "def weights_init_normal(m):\n",
    "    \"\"\"\n",
    "    Applies initial weights to certain layers in a model .\n",
    "    The weights are taken from a normal distribution \n",
    "    with mean = 0, std dev = 0.02.\n",
    "    :param m: A module or layer in a network    \n",
    "    \"\"\"\n",
    "    # classname will be something like:\n",
    "    # `Conv`, `BatchNorm2d`, `Linear`, etc.\n",
    "    classname = m.__class__.__name__\n",
    "    \n",
    "    # TODO: Apply initial weights to convolutional and linear layers\n",
    "    if hasattr(m, 'weight') and (classname.find('Conv') != -1 or classname.find('Linear') != -1):\n",
    "        nn.init.normal(m.weight.data, 0.0, 0.02)\n",
    "        \n",
    "    if hasattr(m, 'bias') and m.bias is not None:\n",
    "        nn.init.constant(m.bias.data, 0.0)\n",
    "    "
   ]
  },
  {
   "cell_type": "markdown",
   "metadata": {
    "collapsed": true
   },
   "source": [
    "## Build complete network\n",
    "\n",
    "Define your models' hyperparameters and instantiate the discriminator and generator from the classes defined above. Make sure you've passed in the correct input arguments."
   ]
  },
  {
   "cell_type": "code",
   "execution_count": 15,
   "metadata": {},
   "outputs": [],
   "source": [
    "\"\"\"\n",
    "DON'T MODIFY ANYTHING IN THIS CELL THAT IS BELOW THIS LINE\n",
    "\"\"\"\n",
    "def build_network(d_conv_dim, g_conv_dim, z_size):\n",
    "    # define discriminator and generator\n",
    "    D = Discriminator(d_conv_dim)\n",
    "    G = Generator(z_size=z_size, conv_dim=g_conv_dim)\n",
    "\n",
    "    # initialize model weights\n",
    "    D.apply(weights_init_normal)\n",
    "    G.apply(weights_init_normal)\n",
    "\n",
    "    print(D)\n",
    "    print()\n",
    "    print(G)\n",
    "    \n",
    "    return D, G\n"
   ]
  },
  {
   "cell_type": "markdown",
   "metadata": {},
   "source": [
    "#### Exercise: Define model hyperparameters"
   ]
  },
  {
   "cell_type": "code",
   "execution_count": 16,
   "metadata": {},
   "outputs": [
    {
     "name": "stdout",
     "output_type": "stream",
     "text": [
      "Discriminator(\n",
      "  (conv1): Sequential(\n",
      "    (0): Conv2d(3, 32, kernel_size=(4, 4), stride=(2, 2), padding=(1, 1), bias=False)\n",
      "  )\n",
      "  (conv2): Sequential(\n",
      "    (0): Conv2d(32, 64, kernel_size=(4, 4), stride=(2, 2), padding=(1, 1), bias=False)\n",
      "    (1): BatchNorm2d(64, eps=1e-05, momentum=0.1, affine=True, track_running_stats=True)\n",
      "  )\n",
      "  (conv3): Sequential(\n",
      "    (0): Conv2d(64, 128, kernel_size=(4, 4), stride=(2, 2), padding=(1, 1), bias=False)\n",
      "    (1): BatchNorm2d(128, eps=1e-05, momentum=0.1, affine=True, track_running_stats=True)\n",
      "  )\n",
      "  (fc): Linear(in_features=2048, out_features=1, bias=True)\n",
      ")\n",
      "\n",
      "Generator(\n",
      "  (fc): Linear(in_features=100, out_features=2048, bias=True)\n",
      "  (t_conv1): Sequential(\n",
      "    (0): ConvTranspose2d(128, 64, kernel_size=(4, 4), stride=(2, 2), padding=(1, 1), bias=False)\n",
      "    (1): BatchNorm2d(64, eps=1e-05, momentum=0.1, affine=True, track_running_stats=True)\n",
      "  )\n",
      "  (t_conv2): Sequential(\n",
      "    (0): ConvTranspose2d(64, 32, kernel_size=(4, 4), stride=(2, 2), padding=(1, 1), bias=False)\n",
      "    (1): BatchNorm2d(32, eps=1e-05, momentum=0.1, affine=True, track_running_stats=True)\n",
      "  )\n",
      "  (t_conv3): Sequential(\n",
      "    (0): ConvTranspose2d(32, 3, kernel_size=(4, 4), stride=(2, 2), padding=(1, 1), bias=False)\n",
      "  )\n",
      ")\n"
     ]
    },
    {
     "name": "stderr",
     "output_type": "stream",
     "text": [
      "/opt/conda/lib/python3.6/site-packages/ipykernel_launcher.py:14: UserWarning: nn.init.normal is now deprecated in favor of nn.init.normal_.\n",
      "  \n",
      "/opt/conda/lib/python3.6/site-packages/ipykernel_launcher.py:17: UserWarning: nn.init.constant is now deprecated in favor of nn.init.constant_.\n"
     ]
    }
   ],
   "source": [
    "# Define model hyperparams\n",
    "d_conv_dim = 32\n",
    "g_conv_dim = 32\n",
    "z_size = 100\n",
    "\n",
    "\"\"\"\n",
    "DON'T MODIFY ANYTHING IN THIS CELL THAT IS BELOW THIS LINE\n",
    "\"\"\"\n",
    "D, G = build_network(d_conv_dim, g_conv_dim, z_size)"
   ]
  },
  {
   "cell_type": "markdown",
   "metadata": {},
   "source": [
    "### Training on GPU\n",
    "\n",
    "Check if you can train on GPU. Here, we'll set this as a boolean variable `train_on_gpu`. Later, you'll be responsible for making sure that \n",
    ">* Models,\n",
    "* Model inputs, and\n",
    "* Loss function arguments\n",
    "\n",
    "Are moved to GPU, where appropriate."
   ]
  },
  {
   "cell_type": "code",
   "execution_count": 17,
   "metadata": {},
   "outputs": [
    {
     "name": "stdout",
     "output_type": "stream",
     "text": [
      "Training on GPU!\n"
     ]
    }
   ],
   "source": [
    "\"\"\"\n",
    "DON'T MODIFY ANYTHING IN THIS CELL\n",
    "\"\"\"\n",
    "import torch\n",
    "\n",
    "# Check for a GPU\n",
    "train_on_gpu = torch.cuda.is_available()\n",
    "if not train_on_gpu:\n",
    "    print('No GPU found. Please use a GPU to train your neural network.')\n",
    "else:\n",
    "    print('Training on GPU!')"
   ]
  },
  {
   "cell_type": "markdown",
   "metadata": {},
   "source": [
    "---\n",
    "## Discriminator and Generator Losses\n",
    "\n",
    "Now we need to calculate the losses for both types of adversarial networks.\n",
    "\n",
    "### Discriminator Losses\n",
    "\n",
    "> * For the discriminator, the total loss is the sum of the losses for real and fake images, `d_loss = d_real_loss + d_fake_loss`. \n",
    "* Remember that we want the discriminator to output 1 for real images and 0 for fake images, so we need to set up the losses to reflect that.\n",
    "\n",
    "\n",
    "### Generator Loss\n",
    "\n",
    "The generator loss will look similar only with flipped labels. The generator's goal is to get the discriminator to *think* its generated images are *real*.\n",
    "\n",
    "#### Exercise: Complete real and fake loss functions\n",
    "\n",
    "**You may choose to use either cross entropy or a least squares error loss to complete the following `real_loss` and `fake_loss` functions.**"
   ]
  },
  {
   "cell_type": "code",
   "execution_count": 18,
   "metadata": {},
   "outputs": [],
   "source": [
    "def real_loss(D_out):\n",
    "    '''Calculates how close discriminator outputs are to being real.\n",
    "       param, D_out: discriminator logits\n",
    "       return: real loss'''\n",
    "    \n",
    "    batch_size = D_out.size(0)\n",
    "    labels = torch.ones(batch_size)\n",
    "    \n",
    "    \n",
    "    if train_on_gpu:\n",
    "        labels = labels.cuda()\n",
    "\n",
    "    criterion = nn.BCEWithLogitsLoss()\n",
    "    loss = criterion(D_out.squeeze(), labels)\n",
    "\n",
    "    return loss\n",
    "\n",
    "def fake_loss(D_out):\n",
    "    '''Calculates how close discriminator outputs are to being fake.\n",
    "       param, D_out: discriminator logits\n",
    "       return: fake loss'''\n",
    "    \n",
    "    batch_size = D_out.size(0)\n",
    "    labels = torch.zeros(batch_size)\n",
    "    \n",
    "    if train_on_gpu:\n",
    "        labels = labels.cuda()\n",
    "        \n",
    "    criterion = nn.BCEWithLogitsLoss()\n",
    "    loss = criterion(D_out.squeeze(), labels)\n",
    "    \n",
    "    return loss"
   ]
  },
  {
   "cell_type": "markdown",
   "metadata": {},
   "source": [
    "## Optimizers\n",
    "\n",
    "#### Exercise: Define optimizers for your Discriminator (D) and Generator (G)\n",
    "\n",
    "Define optimizers for your models with appropriate hyperparameters."
   ]
  },
  {
   "cell_type": "code",
   "execution_count": 19,
   "metadata": {},
   "outputs": [],
   "source": [
    "import torch.optim as optim\n",
    "\n",
    "lr=0.0002\n",
    "beta1=0.5\n",
    "beta2=0.999 # default value\n",
    "\n",
    "# Create optimizers for the discriminator D and generator G\n",
    "d_optimizer = optim.Adam(D.parameters(), lr, [beta1, beta2])\n",
    "g_optimizer = optim.Adam(G.parameters(), lr, [beta1, beta2])"
   ]
  },
  {
   "cell_type": "markdown",
   "metadata": {},
   "source": [
    "---\n",
    "## Training\n",
    "\n",
    "Training will involve alternating between training the discriminator and the generator. You'll use your functions `real_loss` and `fake_loss` to help you calculate the discriminator losses.\n",
    "\n",
    "* You should train the discriminator by alternating on real and fake images\n",
    "* Then the generator, which tries to trick the discriminator and should have an opposing loss function\n",
    "\n",
    "\n",
    "#### Saving Samples\n",
    "\n",
    "You've been given some code to print out some loss statistics and save some generated \"fake\" samples."
   ]
  },
  {
   "cell_type": "markdown",
   "metadata": {},
   "source": [
    "#### Exercise: Complete the training function\n",
    "\n",
    "Keep in mind that, if you've moved your models to GPU, you'll also have to move any model inputs to GPU."
   ]
  },
  {
   "cell_type": "code",
   "execution_count": 20,
   "metadata": {},
   "outputs": [],
   "source": [
    "def train(D, G, n_epochs, print_every=50):\n",
    "    '''Trains adversarial networks for some number of epochs\n",
    "       param, D: the discriminator network\n",
    "       param, G: the generator network\n",
    "       param, n_epochs: number of epochs to train for\n",
    "       param, print_every: when to print and record the models' losses\n",
    "       return: D and G losses'''\n",
    "    \n",
    "    # move models to GPU\n",
    "    if train_on_gpu:\n",
    "        D.cuda()\n",
    "        G.cuda()\n",
    "\n",
    "    # keep track of loss and generated, \"fake\" samples\n",
    "    samples = []\n",
    "    losses = []\n",
    "\n",
    "    # Get some fixed data for sampling. These are images that are held\n",
    "    # constant throughout training, and allow us to inspect the model's performance\n",
    "    sample_size=16\n",
    "    fixed_z = np.random.uniform(-1, 1, size=(sample_size, z_size))\n",
    "    fixed_z = torch.from_numpy(fixed_z).float()\n",
    "    # move z to GPU if available\n",
    "    if train_on_gpu:\n",
    "        fixed_z = fixed_z.cuda()\n",
    "\n",
    "    # epoch training loop\n",
    "    for epoch in range(n_epochs):\n",
    "\n",
    "        # batch training loop\n",
    "        for batch_i, (real_images, _) in enumerate(celeba_train_loader):\n",
    "\n",
    "            batch_size = real_images.size(0)\n",
    "            real_images = scale(real_images)\n",
    "\n",
    "            # ===============================================\n",
    "            #         YOUR CODE HERE: TRAIN THE NETWORKS\n",
    "            # ===============================================\n",
    "            \n",
    "            # 1. Train the discriminator on real and fake images\n",
    "            d_optimizer.zero_grad()\n",
    "            \n",
    "            # Compute the discriminator losses on real images \n",
    "            if train_on_gpu:\n",
    "                real_images = real_images.cuda()\n",
    "                \n",
    "            D_real = D(real_images)\n",
    "            d_real_loss = real_loss(D_real)\n",
    "\n",
    "            # Generate fake images\n",
    "            z = np.random.uniform(-1, 1, size=(batch_size, z_size))\n",
    "            z = torch.from_numpy(z).float()\n",
    "\n",
    "            # move x to GPU, if available\n",
    "            if train_on_gpu:\n",
    "                z = z.cuda()\n",
    "                \n",
    "            fake_images = G(z)\n",
    "            \n",
    "            D_fake = D(fake_images)\n",
    "            d_fake_loss = fake_loss(D_fake)\n",
    "            # add up loss and perform backprop\n",
    "            d_loss = d_real_loss + d_fake_loss\n",
    "            d_loss.backward(retain_graph = True)\n",
    "            d_optimizer.step()            \n",
    "            \n",
    "            # 2. Train the generator with an adversarial loss\n",
    "            g_optimizer.zero_grad()\n",
    "            \n",
    "            # Compute the discriminator losses on fake images \n",
    "            # using flipped labels!\n",
    "            D_fake = D(fake_images)\n",
    "            g_loss = real_loss(D_fake) # use real loss to flip labels\n",
    "        \n",
    "            # perform backprop\n",
    "            g_loss.backward()\n",
    "            g_optimizer.step()\n",
    "            \n",
    "            \n",
    "            # ===============================================\n",
    "            #              END OF YOUR CODE\n",
    "            # ===============================================\n",
    "\n",
    "            # Print some loss stats\n",
    "            if batch_i % print_every == 0:\n",
    "                # append discriminator loss and generator loss\n",
    "                losses.append((d_loss.item(), g_loss.item()))\n",
    "                # print discriminator and generator loss\n",
    "                print('Epoch [{:5d}/{:5d}] | d_loss: {:6.4f} | g_loss: {:6.4f}'.format(\n",
    "                        epoch+1, n_epochs, d_loss.item(), g_loss.item()))\n",
    "\n",
    "\n",
    "        ## AFTER EACH EPOCH##    \n",
    "        # this code assumes your generator is named G, feel free to change the name\n",
    "        # generate and save sample, fake images\n",
    "        G.eval() # for generating samples\n",
    "        samples_z = G(fixed_z)\n",
    "        samples.append(samples_z)\n",
    "        G.train() # back to training mode\n",
    "\n",
    "    # Save training generator samples\n",
    "    with open('train_samples.pkl', 'wb') as f:\n",
    "        pkl.dump(samples, f)\n",
    "    \n",
    "    # finally return losses\n",
    "    return losses"
   ]
  },
  {
   "cell_type": "markdown",
   "metadata": {},
   "source": [
    "Set your number of training epochs and train your GAN!"
   ]
  },
  {
   "cell_type": "code",
   "execution_count": 21,
   "metadata": {},
   "outputs": [
    {
     "name": "stdout",
     "output_type": "stream",
     "text": [
      "Epoch [    1/   20] | d_loss: 1.4647 | g_loss: 0.7825\n",
      "Epoch [    1/   20] | d_loss: 0.2275 | g_loss: 2.8480\n",
      "Epoch [    1/   20] | d_loss: 0.2269 | g_loss: 5.9423\n",
      "Epoch [    1/   20] | d_loss: 0.1967 | g_loss: 2.7120\n",
      "Epoch [    1/   20] | d_loss: 0.3620 | g_loss: 3.8380\n",
      "Epoch [    1/   20] | d_loss: 0.5584 | g_loss: 1.6090\n",
      "Epoch [    1/   20] | d_loss: 0.4323 | g_loss: 2.4616\n",
      "Epoch [    1/   20] | d_loss: 0.5048 | g_loss: 1.8445\n",
      "Epoch [    1/   20] | d_loss: 0.6376 | g_loss: 2.1405\n",
      "Epoch [    1/   20] | d_loss: 0.8121 | g_loss: 1.3399\n",
      "Epoch [    1/   20] | d_loss: 1.0579 | g_loss: 1.7438\n",
      "Epoch [    1/   20] | d_loss: 0.9053 | g_loss: 1.7491\n",
      "Epoch [    1/   20] | d_loss: 0.9517 | g_loss: 1.2023\n",
      "Epoch [    1/   20] | d_loss: 0.9559 | g_loss: 1.2594\n",
      "Epoch [    1/   20] | d_loss: 1.1236 | g_loss: 1.6490\n",
      "Epoch [    2/   20] | d_loss: 1.1393 | g_loss: 1.2779\n",
      "Epoch [    2/   20] | d_loss: 1.0357 | g_loss: 1.2786\n",
      "Epoch [    2/   20] | d_loss: 1.1227 | g_loss: 1.1113\n",
      "Epoch [    2/   20] | d_loss: 1.1128 | g_loss: 1.1717\n",
      "Epoch [    2/   20] | d_loss: 1.1121 | g_loss: 0.8973\n",
      "Epoch [    2/   20] | d_loss: 1.1330 | g_loss: 1.1350\n",
      "Epoch [    2/   20] | d_loss: 1.5217 | g_loss: 0.5710\n",
      "Epoch [    2/   20] | d_loss: 1.0711 | g_loss: 1.2411\n",
      "Epoch [    2/   20] | d_loss: 1.1359 | g_loss: 1.0104\n",
      "Epoch [    2/   20] | d_loss: 1.1893 | g_loss: 1.0409\n",
      "Epoch [    2/   20] | d_loss: 1.0953 | g_loss: 1.1128\n",
      "Epoch [    2/   20] | d_loss: 1.0841 | g_loss: 1.1830\n",
      "Epoch [    2/   20] | d_loss: 1.1439 | g_loss: 1.0609\n",
      "Epoch [    2/   20] | d_loss: 1.2393 | g_loss: 1.0189\n",
      "Epoch [    2/   20] | d_loss: 1.1896 | g_loss: 1.2521\n",
      "Epoch [    3/   20] | d_loss: 1.4044 | g_loss: 0.7036\n",
      "Epoch [    3/   20] | d_loss: 1.0247 | g_loss: 1.0880\n",
      "Epoch [    3/   20] | d_loss: 0.9621 | g_loss: 1.1141\n",
      "Epoch [    3/   20] | d_loss: 1.3099 | g_loss: 1.1408\n",
      "Epoch [    3/   20] | d_loss: 1.2076 | g_loss: 0.9061\n",
      "Epoch [    3/   20] | d_loss: 1.0142 | g_loss: 1.2238\n",
      "Epoch [    3/   20] | d_loss: 1.2070 | g_loss: 0.9720\n",
      "Epoch [    3/   20] | d_loss: 1.1182 | g_loss: 1.3204\n",
      "Epoch [    3/   20] | d_loss: 1.1852 | g_loss: 0.8098\n",
      "Epoch [    3/   20] | d_loss: 1.1883 | g_loss: 1.1271\n",
      "Epoch [    3/   20] | d_loss: 1.0593 | g_loss: 1.2262\n",
      "Epoch [    3/   20] | d_loss: 1.2061 | g_loss: 0.9073\n",
      "Epoch [    3/   20] | d_loss: 1.1408 | g_loss: 1.1435\n",
      "Epoch [    3/   20] | d_loss: 1.0804 | g_loss: 1.1326\n",
      "Epoch [    3/   20] | d_loss: 1.3203 | g_loss: 0.6284\n",
      "Epoch [    4/   20] | d_loss: 1.0883 | g_loss: 0.7936\n",
      "Epoch [    4/   20] | d_loss: 1.2404 | g_loss: 0.8573\n",
      "Epoch [    4/   20] | d_loss: 0.9830 | g_loss: 1.1831\n",
      "Epoch [    4/   20] | d_loss: 1.1736 | g_loss: 1.0942\n",
      "Epoch [    4/   20] | d_loss: 1.0530 | g_loss: 1.2430\n",
      "Epoch [    4/   20] | d_loss: 1.2419 | g_loss: 0.8837\n",
      "Epoch [    4/   20] | d_loss: 1.3419 | g_loss: 0.4661\n",
      "Epoch [    4/   20] | d_loss: 1.1616 | g_loss: 1.1508\n",
      "Epoch [    4/   20] | d_loss: 1.2047 | g_loss: 1.2185\n",
      "Epoch [    4/   20] | d_loss: 0.9723 | g_loss: 1.5042\n",
      "Epoch [    4/   20] | d_loss: 1.1066 | g_loss: 1.1599\n",
      "Epoch [    4/   20] | d_loss: 0.9821 | g_loss: 1.2660\n",
      "Epoch [    4/   20] | d_loss: 1.0481 | g_loss: 1.0609\n",
      "Epoch [    4/   20] | d_loss: 1.0086 | g_loss: 1.3098\n",
      "Epoch [    4/   20] | d_loss: 1.0849 | g_loss: 1.0069\n",
      "Epoch [    5/   20] | d_loss: 1.0015 | g_loss: 0.9905\n",
      "Epoch [    5/   20] | d_loss: 0.9334 | g_loss: 1.0764\n",
      "Epoch [    5/   20] | d_loss: 1.0572 | g_loss: 1.1677\n",
      "Epoch [    5/   20] | d_loss: 0.9625 | g_loss: 1.5996\n",
      "Epoch [    5/   20] | d_loss: 1.2253 | g_loss: 0.7994\n",
      "Epoch [    5/   20] | d_loss: 1.1878 | g_loss: 0.9553\n",
      "Epoch [    5/   20] | d_loss: 1.2513 | g_loss: 0.5697\n",
      "Epoch [    5/   20] | d_loss: 1.1872 | g_loss: 0.7233\n",
      "Epoch [    5/   20] | d_loss: 1.1343 | g_loss: 0.9704\n",
      "Epoch [    5/   20] | d_loss: 0.9351 | g_loss: 1.4844\n",
      "Epoch [    5/   20] | d_loss: 0.9465 | g_loss: 1.4069\n",
      "Epoch [    5/   20] | d_loss: 0.9909 | g_loss: 1.3781\n",
      "Epoch [    5/   20] | d_loss: 0.8752 | g_loss: 0.9439\n",
      "Epoch [    5/   20] | d_loss: 0.8417 | g_loss: 1.4067\n",
      "Epoch [    5/   20] | d_loss: 1.2893 | g_loss: 0.5579\n",
      "Epoch [    6/   20] | d_loss: 1.2039 | g_loss: 0.6276\n",
      "Epoch [    6/   20] | d_loss: 1.1840 | g_loss: 1.5123\n",
      "Epoch [    6/   20] | d_loss: 0.9367 | g_loss: 1.8474\n",
      "Epoch [    6/   20] | d_loss: 1.0137 | g_loss: 1.4084\n",
      "Epoch [    6/   20] | d_loss: 0.9366 | g_loss: 1.2433\n",
      "Epoch [    6/   20] | d_loss: 1.0279 | g_loss: 1.2712\n",
      "Epoch [    6/   20] | d_loss: 1.0866 | g_loss: 0.9888\n",
      "Epoch [    6/   20] | d_loss: 1.4009 | g_loss: 1.9676\n",
      "Epoch [    6/   20] | d_loss: 0.7868 | g_loss: 1.4371\n",
      "Epoch [    6/   20] | d_loss: 0.8688 | g_loss: 1.4532\n",
      "Epoch [    6/   20] | d_loss: 0.9610 | g_loss: 1.4030\n",
      "Epoch [    6/   20] | d_loss: 1.1851 | g_loss: 1.6947\n",
      "Epoch [    6/   20] | d_loss: 0.9810 | g_loss: 0.9267\n",
      "Epoch [    6/   20] | d_loss: 1.2729 | g_loss: 1.9340\n",
      "Epoch [    6/   20] | d_loss: 0.9712 | g_loss: 1.1574\n",
      "Epoch [    7/   20] | d_loss: 0.9555 | g_loss: 1.5193\n",
      "Epoch [    7/   20] | d_loss: 1.0703 | g_loss: 1.5674\n",
      "Epoch [    7/   20] | d_loss: 0.8190 | g_loss: 2.0587\n",
      "Epoch [    7/   20] | d_loss: 1.0335 | g_loss: 1.5267\n",
      "Epoch [    7/   20] | d_loss: 0.9002 | g_loss: 1.3702\n",
      "Epoch [    7/   20] | d_loss: 1.2206 | g_loss: 0.6630\n",
      "Epoch [    7/   20] | d_loss: 1.0283 | g_loss: 1.1605\n",
      "Epoch [    7/   20] | d_loss: 1.1652 | g_loss: 0.8805\n",
      "Epoch [    7/   20] | d_loss: 1.0602 | g_loss: 1.6142\n",
      "Epoch [    7/   20] | d_loss: 0.9497 | g_loss: 2.0844\n",
      "Epoch [    7/   20] | d_loss: 0.9114 | g_loss: 1.4368\n",
      "Epoch [    7/   20] | d_loss: 1.2203 | g_loss: 0.4341\n",
      "Epoch [    7/   20] | d_loss: 0.9146 | g_loss: 1.2061\n",
      "Epoch [    7/   20] | d_loss: 0.9344 | g_loss: 1.6116\n",
      "Epoch [    7/   20] | d_loss: 0.9682 | g_loss: 1.4760\n",
      "Epoch [    8/   20] | d_loss: 1.3208 | g_loss: 1.6503\n",
      "Epoch [    8/   20] | d_loss: 1.2545 | g_loss: 0.6441\n",
      "Epoch [    8/   20] | d_loss: 0.7856 | g_loss: 1.4911\n",
      "Epoch [    8/   20] | d_loss: 0.8902 | g_loss: 1.1944\n",
      "Epoch [    8/   20] | d_loss: 0.8736 | g_loss: 1.3635\n",
      "Epoch [    8/   20] | d_loss: 1.0080 | g_loss: 1.0681\n",
      "Epoch [    8/   20] | d_loss: 0.8880 | g_loss: 0.9593\n",
      "Epoch [    8/   20] | d_loss: 1.0266 | g_loss: 0.9569\n",
      "Epoch [    8/   20] | d_loss: 0.9539 | g_loss: 1.0902\n",
      "Epoch [    8/   20] | d_loss: 0.8590 | g_loss: 1.4796\n",
      "Epoch [    8/   20] | d_loss: 0.9474 | g_loss: 1.2035\n",
      "Epoch [    8/   20] | d_loss: 0.9864 | g_loss: 1.3069\n",
      "Epoch [    8/   20] | d_loss: 0.9243 | g_loss: 1.4686\n",
      "Epoch [    8/   20] | d_loss: 0.9982 | g_loss: 0.7861\n",
      "Epoch [    8/   20] | d_loss: 0.9294 | g_loss: 1.6891\n",
      "Epoch [    9/   20] | d_loss: 1.3381 | g_loss: 1.7730\n",
      "Epoch [    9/   20] | d_loss: 0.9067 | g_loss: 1.0155\n",
      "Epoch [    9/   20] | d_loss: 0.7479 | g_loss: 1.8410\n",
      "Epoch [    9/   20] | d_loss: 0.8622 | g_loss: 1.0358\n",
      "Epoch [    9/   20] | d_loss: 0.7471 | g_loss: 1.6518\n",
      "Epoch [    9/   20] | d_loss: 0.8711 | g_loss: 1.8733\n",
      "Epoch [    9/   20] | d_loss: 1.1745 | g_loss: 1.7629\n",
      "Epoch [    9/   20] | d_loss: 0.8378 | g_loss: 1.3184\n",
      "Epoch [    9/   20] | d_loss: 0.7954 | g_loss: 1.4820\n",
      "Epoch [    9/   20] | d_loss: 0.7954 | g_loss: 1.4624\n",
      "Epoch [    9/   20] | d_loss: 0.8317 | g_loss: 1.4397\n",
      "Epoch [    9/   20] | d_loss: 0.5683 | g_loss: 2.3305\n",
      "Epoch [    9/   20] | d_loss: 0.9859 | g_loss: 0.8730\n",
      "Epoch [    9/   20] | d_loss: 0.9760 | g_loss: 1.1323\n",
      "Epoch [    9/   20] | d_loss: 0.8520 | g_loss: 1.8126\n",
      "Epoch [   10/   20] | d_loss: 0.9242 | g_loss: 1.1292\n",
      "Epoch [   10/   20] | d_loss: 0.7937 | g_loss: 1.6480\n",
      "Epoch [   10/   20] | d_loss: 0.9216 | g_loss: 1.3979\n",
      "Epoch [   10/   20] | d_loss: 0.8641 | g_loss: 1.5170\n",
      "Epoch [   10/   20] | d_loss: 0.6892 | g_loss: 1.3550\n",
      "Epoch [   10/   20] | d_loss: 0.6601 | g_loss: 1.6834\n",
      "Epoch [   10/   20] | d_loss: 0.7626 | g_loss: 1.6287\n",
      "Epoch [   10/   20] | d_loss: 0.6666 | g_loss: 1.7803\n",
      "Epoch [   10/   20] | d_loss: 0.8380 | g_loss: 1.0706\n",
      "Epoch [   10/   20] | d_loss: 0.9314 | g_loss: 2.0326\n",
      "Epoch [   10/   20] | d_loss: 0.7764 | g_loss: 0.9708\n",
      "Epoch [   10/   20] | d_loss: 0.8590 | g_loss: 1.0472\n",
      "Epoch [   10/   20] | d_loss: 0.9963 | g_loss: 1.7193\n",
      "Epoch [   10/   20] | d_loss: 0.7321 | g_loss: 1.6292\n",
      "Epoch [   10/   20] | d_loss: 0.8346 | g_loss: 1.5384\n",
      "Epoch [   11/   20] | d_loss: 1.0143 | g_loss: 0.8987\n",
      "Epoch [   11/   20] | d_loss: 1.0024 | g_loss: 2.4219\n",
      "Epoch [   11/   20] | d_loss: 0.8513 | g_loss: 0.7230\n",
      "Epoch [   11/   20] | d_loss: 1.1231 | g_loss: 2.6305\n",
      "Epoch [   11/   20] | d_loss: 0.8966 | g_loss: 1.1927\n",
      "Epoch [   11/   20] | d_loss: 0.8015 | g_loss: 1.1253\n",
      "Epoch [   11/   20] | d_loss: 1.0459 | g_loss: 0.4743\n",
      "Epoch [   11/   20] | d_loss: 0.9063 | g_loss: 1.3597\n",
      "Epoch [   11/   20] | d_loss: 1.0114 | g_loss: 1.8771\n",
      "Epoch [   11/   20] | d_loss: 0.7363 | g_loss: 1.5711\n",
      "Epoch [   11/   20] | d_loss: 0.8686 | g_loss: 1.0826\n",
      "Epoch [   11/   20] | d_loss: 0.7301 | g_loss: 1.4099\n",
      "Epoch [   11/   20] | d_loss: 1.1928 | g_loss: 0.7892\n",
      "Epoch [   11/   20] | d_loss: 0.7711 | g_loss: 2.0426\n",
      "Epoch [   11/   20] | d_loss: 0.8476 | g_loss: 1.5396\n",
      "Epoch [   12/   20] | d_loss: 0.6513 | g_loss: 2.1230\n",
      "Epoch [   12/   20] | d_loss: 0.7907 | g_loss: 1.3716\n",
      "Epoch [   12/   20] | d_loss: 0.6729 | g_loss: 2.1147\n",
      "Epoch [   12/   20] | d_loss: 0.8881 | g_loss: 1.1959\n",
      "Epoch [   12/   20] | d_loss: 0.7021 | g_loss: 1.1994\n",
      "Epoch [   12/   20] | d_loss: 0.7693 | g_loss: 1.9406\n",
      "Epoch [   12/   20] | d_loss: 0.8481 | g_loss: 2.1474\n",
      "Epoch [   12/   20] | d_loss: 0.7044 | g_loss: 1.4714\n",
      "Epoch [   12/   20] | d_loss: 0.7327 | g_loss: 1.0277\n",
      "Epoch [   12/   20] | d_loss: 0.7697 | g_loss: 1.7422\n",
      "Epoch [   12/   20] | d_loss: 0.5411 | g_loss: 2.1119\n",
      "Epoch [   12/   20] | d_loss: 0.8391 | g_loss: 1.5593\n",
      "Epoch [   12/   20] | d_loss: 0.5719 | g_loss: 1.4998\n",
      "Epoch [   12/   20] | d_loss: 0.6732 | g_loss: 1.8591\n",
      "Epoch [   12/   20] | d_loss: 0.9204 | g_loss: 2.0483\n",
      "Epoch [   13/   20] | d_loss: 0.7109 | g_loss: 1.2148\n",
      "Epoch [   13/   20] | d_loss: 0.8293 | g_loss: 1.1518\n",
      "Epoch [   13/   20] | d_loss: 0.4742 | g_loss: 2.1398\n",
      "Epoch [   13/   20] | d_loss: 0.7374 | g_loss: 1.3664\n",
      "Epoch [   13/   20] | d_loss: 0.7049 | g_loss: 2.1513\n",
      "Epoch [   13/   20] | d_loss: 1.0603 | g_loss: 2.7001\n",
      "Epoch [   13/   20] | d_loss: 0.8210 | g_loss: 2.0859\n",
      "Epoch [   13/   20] | d_loss: 0.7450 | g_loss: 1.5649\n",
      "Epoch [   13/   20] | d_loss: 0.8162 | g_loss: 1.2789\n",
      "Epoch [   13/   20] | d_loss: 1.1243 | g_loss: 0.5398\n",
      "Epoch [   13/   20] | d_loss: 0.7672 | g_loss: 1.7119\n",
      "Epoch [   13/   20] | d_loss: 0.8427 | g_loss: 1.2940\n",
      "Epoch [   13/   20] | d_loss: 0.6607 | g_loss: 1.3341\n",
      "Epoch [   13/   20] | d_loss: 0.6207 | g_loss: 1.6350\n",
      "Epoch [   13/   20] | d_loss: 0.7885 | g_loss: 0.9155\n",
      "Epoch [   14/   20] | d_loss: 0.8780 | g_loss: 0.9852\n",
      "Epoch [   14/   20] | d_loss: 0.7375 | g_loss: 1.4383\n",
      "Epoch [   14/   20] | d_loss: 1.1146 | g_loss: 1.0556\n",
      "Epoch [   14/   20] | d_loss: 0.6376 | g_loss: 2.2939\n",
      "Epoch [   14/   20] | d_loss: 0.7081 | g_loss: 1.2881\n",
      "Epoch [   14/   20] | d_loss: 1.5320 | g_loss: 0.5876\n",
      "Epoch [   14/   20] | d_loss: 0.8320 | g_loss: 1.2779\n",
      "Epoch [   14/   20] | d_loss: 0.7140 | g_loss: 1.4194\n",
      "Epoch [   14/   20] | d_loss: 0.6706 | g_loss: 1.7905\n",
      "Epoch [   14/   20] | d_loss: 0.7480 | g_loss: 1.5540\n",
      "Epoch [   14/   20] | d_loss: 1.0821 | g_loss: 2.8237\n",
      "Epoch [   14/   20] | d_loss: 0.5477 | g_loss: 2.0403\n",
      "Epoch [   14/   20] | d_loss: 0.9274 | g_loss: 1.1917\n",
      "Epoch [   14/   20] | d_loss: 0.6881 | g_loss: 2.2921\n",
      "Epoch [   14/   20] | d_loss: 0.6081 | g_loss: 1.7729\n",
      "Epoch [   15/   20] | d_loss: 0.8027 | g_loss: 2.4809\n",
      "Epoch [   15/   20] | d_loss: 0.6333 | g_loss: 1.4582\n",
      "Epoch [   15/   20] | d_loss: 0.7741 | g_loss: 1.0885\n",
      "Epoch [   15/   20] | d_loss: 0.8637 | g_loss: 1.3836\n",
      "Epoch [   15/   20] | d_loss: 0.7442 | g_loss: 0.9092\n",
      "Epoch [   15/   20] | d_loss: 0.5145 | g_loss: 2.3131\n",
      "Epoch [   15/   20] | d_loss: 0.6396 | g_loss: 1.7867\n",
      "Epoch [   15/   20] | d_loss: 0.7065 | g_loss: 1.7951\n",
      "Epoch [   15/   20] | d_loss: 0.6066 | g_loss: 1.8986\n",
      "Epoch [   15/   20] | d_loss: 0.6939 | g_loss: 1.8082\n",
      "Epoch [   15/   20] | d_loss: 0.4377 | g_loss: 2.3416\n",
      "Epoch [   15/   20] | d_loss: 0.6816 | g_loss: 1.7171\n",
      "Epoch [   15/   20] | d_loss: 0.4558 | g_loss: 2.4879\n",
      "Epoch [   15/   20] | d_loss: 0.3886 | g_loss: 2.5769\n",
      "Epoch [   15/   20] | d_loss: 0.5029 | g_loss: 1.8431\n",
      "Epoch [   16/   20] | d_loss: 0.7024 | g_loss: 1.6860\n",
      "Epoch [   16/   20] | d_loss: 0.5109 | g_loss: 1.8770\n",
      "Epoch [   16/   20] | d_loss: 0.8822 | g_loss: 3.3125\n",
      "Epoch [   16/   20] | d_loss: 0.6263 | g_loss: 1.6149\n",
      "Epoch [   16/   20] | d_loss: 0.5719 | g_loss: 1.7380\n",
      "Epoch [   16/   20] | d_loss: 0.6732 | g_loss: 1.6856\n",
      "Epoch [   16/   20] | d_loss: 0.4762 | g_loss: 2.0792\n",
      "Epoch [   16/   20] | d_loss: 0.5296 | g_loss: 1.8227\n",
      "Epoch [   16/   20] | d_loss: 0.6108 | g_loss: 2.0664\n",
      "Epoch [   16/   20] | d_loss: 0.6352 | g_loss: 2.4539\n",
      "Epoch [   16/   20] | d_loss: 0.7133 | g_loss: 1.7146\n",
      "Epoch [   16/   20] | d_loss: 0.7872 | g_loss: 1.4203\n",
      "Epoch [   16/   20] | d_loss: 0.4431 | g_loss: 2.1743\n",
      "Epoch [   16/   20] | d_loss: 0.9619 | g_loss: 3.3224\n",
      "Epoch [   16/   20] | d_loss: 0.7807 | g_loss: 1.8488\n",
      "Epoch [   17/   20] | d_loss: 0.5879 | g_loss: 1.6769\n",
      "Epoch [   17/   20] | d_loss: 0.9893 | g_loss: 0.8160\n",
      "Epoch [   17/   20] | d_loss: 0.7248 | g_loss: 2.3326\n",
      "Epoch [   17/   20] | d_loss: 0.5230 | g_loss: 1.7970\n",
      "Epoch [   17/   20] | d_loss: 0.6500 | g_loss: 2.2852\n",
      "Epoch [   17/   20] | d_loss: 0.5295 | g_loss: 2.0874\n",
      "Epoch [   17/   20] | d_loss: 0.6287 | g_loss: 2.6114\n",
      "Epoch [   17/   20] | d_loss: 0.4934 | g_loss: 2.0055\n",
      "Epoch [   17/   20] | d_loss: 0.4007 | g_loss: 2.2639\n",
      "Epoch [   17/   20] | d_loss: 0.6282 | g_loss: 1.5050\n",
      "Epoch [   17/   20] | d_loss: 0.5575 | g_loss: 1.7274\n",
      "Epoch [   17/   20] | d_loss: 0.8811 | g_loss: 1.5944\n",
      "Epoch [   17/   20] | d_loss: 0.5206 | g_loss: 2.2674\n",
      "Epoch [   17/   20] | d_loss: 0.4931 | g_loss: 2.4671\n",
      "Epoch [   17/   20] | d_loss: 0.5353 | g_loss: 1.8851\n",
      "Epoch [   18/   20] | d_loss: 0.5141 | g_loss: 1.5776\n",
      "Epoch [   18/   20] | d_loss: 0.6468 | g_loss: 1.7228\n",
      "Epoch [   18/   20] | d_loss: 0.6406 | g_loss: 2.1219\n",
      "Epoch [   18/   20] | d_loss: 0.6850 | g_loss: 1.6424\n",
      "Epoch [   18/   20] | d_loss: 0.5635 | g_loss: 2.1426\n",
      "Epoch [   18/   20] | d_loss: 0.6247 | g_loss: 2.4351\n",
      "Epoch [   18/   20] | d_loss: 0.5764 | g_loss: 1.5974\n",
      "Epoch [   18/   20] | d_loss: 0.5313 | g_loss: 2.2398\n",
      "Epoch [   18/   20] | d_loss: 0.5335 | g_loss: 1.6324\n",
      "Epoch [   18/   20] | d_loss: 0.6434 | g_loss: 2.4493\n",
      "Epoch [   18/   20] | d_loss: 0.5350 | g_loss: 2.1340\n",
      "Epoch [   18/   20] | d_loss: 0.3771 | g_loss: 2.4114\n",
      "Epoch [   18/   20] | d_loss: 0.5335 | g_loss: 2.4585\n",
      "Epoch [   18/   20] | d_loss: 0.4732 | g_loss: 2.0487\n",
      "Epoch [   18/   20] | d_loss: 0.4943 | g_loss: 2.2237\n",
      "Epoch [   19/   20] | d_loss: 0.4230 | g_loss: 2.9846\n",
      "Epoch [   19/   20] | d_loss: 0.5477 | g_loss: 2.1262\n",
      "Epoch [   19/   20] | d_loss: 0.6895 | g_loss: 2.0179\n",
      "Epoch [   19/   20] | d_loss: 0.4842 | g_loss: 1.6508\n",
      "Epoch [   19/   20] | d_loss: 0.5703 | g_loss: 2.4797\n",
      "Epoch [   19/   20] | d_loss: 0.4718 | g_loss: 1.7968\n",
      "Epoch [   19/   20] | d_loss: 0.4985 | g_loss: 1.8119\n",
      "Epoch [   19/   20] | d_loss: 0.5502 | g_loss: 2.6908\n",
      "Epoch [   19/   20] | d_loss: 0.6044 | g_loss: 1.5089\n",
      "Epoch [   19/   20] | d_loss: 0.5160 | g_loss: 2.2638\n",
      "Epoch [   19/   20] | d_loss: 0.5773 | g_loss: 2.9368\n",
      "Epoch [   19/   20] | d_loss: 0.4599 | g_loss: 2.2461\n",
      "Epoch [   19/   20] | d_loss: 0.3496 | g_loss: 2.2298\n",
      "Epoch [   19/   20] | d_loss: 0.5565 | g_loss: 2.4580\n",
      "Epoch [   19/   20] | d_loss: 0.4157 | g_loss: 2.3546\n",
      "Epoch [   20/   20] | d_loss: 0.5558 | g_loss: 1.7071\n",
      "Epoch [   20/   20] | d_loss: 0.5674 | g_loss: 3.2735\n",
      "Epoch [   20/   20] | d_loss: 0.3786 | g_loss: 2.4453\n",
      "Epoch [   20/   20] | d_loss: 0.5650 | g_loss: 1.5777\n",
      "Epoch [   20/   20] | d_loss: 0.3872 | g_loss: 2.3074\n",
      "Epoch [   20/   20] | d_loss: 1.5323 | g_loss: 4.0653\n",
      "Epoch [   20/   20] | d_loss: 0.4574 | g_loss: 2.5572\n",
      "Epoch [   20/   20] | d_loss: 0.5041 | g_loss: 3.2795\n",
      "Epoch [   20/   20] | d_loss: 0.4982 | g_loss: 2.2306\n",
      "Epoch [   20/   20] | d_loss: 0.7566 | g_loss: 3.7770\n",
      "Epoch [   20/   20] | d_loss: 0.4672 | g_loss: 2.4369\n",
      "Epoch [   20/   20] | d_loss: 0.4950 | g_loss: 2.4464\n",
      "Epoch [   20/   20] | d_loss: 0.5782 | g_loss: 1.9355\n",
      "Epoch [   20/   20] | d_loss: 0.4606 | g_loss: 2.2942\n",
      "Epoch [   20/   20] | d_loss: 0.4559 | g_loss: 1.7434\n"
     ]
    }
   ],
   "source": [
    "# set number of epochs \n",
    "n_epochs = 20\n",
    "\n",
    "\n",
    "\"\"\"\n",
    "DON'T MODIFY ANYTHING IN THIS CELL\n",
    "\"\"\"\n",
    "# call training function\n",
    "losses = train(D, G, n_epochs=n_epochs)"
   ]
  },
  {
   "cell_type": "markdown",
   "metadata": {
    "collapsed": true
   },
   "source": [
    "## Training loss\n",
    "\n",
    "Plot the training losses for the generator and discriminator, recorded after each epoch."
   ]
  },
  {
   "cell_type": "code",
   "execution_count": 22,
   "metadata": {},
   "outputs": [
    {
     "data": {
      "text/plain": [
       "<matplotlib.legend.Legend at 0x7fa3801bb240>"
      ]
     },
     "execution_count": 22,
     "metadata": {},
     "output_type": "execute_result"
    },
    {
     "data": {
      "image/png": "[encoded data removed]",
      "text/plain": [
       "<matplotlib.figure.Figure at 0x7fa383c3aba8>"
      ]
     },
     "metadata": {
      "needs_background": "light"
     },
     "output_type": "display_data"
    }
   ],
   "source": [
    "fig, ax = plt.subplots()\n",
    "losses = np.array(losses)\n",
    "plt.plot(losses.T[0], label='Discriminator', alpha=0.5)\n",
    "plt.plot(losses.T[1], label='Generator', alpha=0.5)\n",
    "plt.title(\"Training Losses\")\n",
    "plt.legend()"
   ]
  },
  {
   "cell_type": "markdown",
   "metadata": {
    "collapsed": true
   },
   "source": [
    "## Generator samples from training\n",
    "\n",
    "View samples of images from the generator, and answer a question about the strengths and weaknesses of your trained models."
   ]
  },
  {
   "cell_type": "code",
   "execution_count": 23,
   "metadata": {},
   "outputs": [],
   "source": [
    "# helper function for viewing a list of passed in sample images\n",
    "def view_samples(epoch, samples):\n",
    "    fig, axes = plt.subplots(figsize=(16,4), nrows=2, ncols=8, sharey=True, sharex=True)\n",
    "    for ax, img in zip(axes.flatten(), samples[epoch]):\n",
    "        img = img.detach().cpu().numpy()\n",
    "        img = np.transpose(img, (1, 2, 0))\n",
    "        img = ((img + 1)*255 / (2)).astype(np.uint8)\n",
    "        ax.xaxis.set_visible(False)\n",
    "        ax.yaxis.set_visible(False)\n",
    "        im = ax.imshow(img.reshape((32,32,3)))"
   ]
  },
  {
   "cell_type": "code",
   "execution_count": 24,
   "metadata": {},
   "outputs": [],
   "source": [
    "# Load samples from generator, taken while training\n",
    "with open('train_samples.pkl', 'rb') as f:\n",
    "    samples = pkl.load(f)"
   ]
  },
  {
   "cell_type": "code",
   "execution_count": 25,
   "metadata": {},
   "outputs": [
    {
     "data": {
      "image/png": "[encoded data removed]",
      "text/plain": [
       "<matplotlib.figure.Figure at 0x7fa383c61080>"
      ]
     },
     "metadata": {
      "needs_background": "light"
     },
     "output_type": "display_data"
    }
   ],
   "source": [
    "_ = view_samples(-1, samples)"
   ]
  },
  {
   "cell_type": "markdown",
   "metadata": {},
   "source": [
    "### Question: What do you notice about your generated samples and how might you improve this model?\n",
    "When you answer this question, consider the following factors:\n",
    "* The dataset is biased; it is made of \"celebrity\" faces that are mostly white\n",
    "* Model size; larger models have the opportunity to learn more features in a data feature space\n",
    "* Optimization strategy; optimizers and number of epochs affect your final result\n",
    "\n"
   ]
  },
  {
   "cell_type": "markdown",
   "metadata": {},
   "source": [
    "**Answer:** \n",
    "I would probably create some subcategory since its not clear gender, skin color and sometime skin has more than one color.\n",
    "Eyes are probably the best results compared to nose, chin and face contour. Probably the different pose of the model inpact the face contour.\n",
    "\n",
    "I could improve bacth size ( now is 64 ) to 128 and epochs ( now 12)  and hopefully I would see a better results\n",
    "\n",
    "moved batch from 64 to 128\n",
    "Fix initilizations standard deviation = 0.02 ( My bad I was using 0.2)\n",
    "\n",
    "Play with leaky relu slope ( 0.18 to 0.06 ) was everywhere 0.2\n"
   ]
  },
  {
   "cell_type": "markdown",
   "metadata": {},
   "source": [
    "### Submitting This Project\n",
    "When submitting this project, make sure to run all the cells before saving the notebook. Save the notebook file as \"dlnd_face_generation.ipynb\" and save it as a HTML file under \"File\" -> \"Download as\". Include the \"problem_unittests.py\" files in your submission."
   ]
  }
 ],
 "metadata": {
  "kernelspec": {
   "display_name": "Python 3",
   "language": "python",
   "name": "python3"
  },
  "language_info": {
   "codemirror_mode": {
    "name": "ipython",
    "version": 3
   },
   "file_extension": ".py",
   "mimetype": "text/x-python",
   "name": "python",
   "nbconvert_exporter": "python",
   "pygments_lexer": "ipython3",
   "version": "3.6.3"
  }
 },
 "nbformat": 4,
 "nbformat_minor": 1
}
